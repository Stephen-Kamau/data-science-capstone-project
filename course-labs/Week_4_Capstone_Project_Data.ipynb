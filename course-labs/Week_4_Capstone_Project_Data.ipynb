{
 "cells": [
  {
   "cell_type": "markdown",
   "metadata": {},
   "source": [
    "# Capstone Project\n",
    "## Data"
   ]
  },
  {
   "cell_type": "markdown",
   "metadata": {},
   "source": [
    "First, we will leverage data from Behavioral Risk Factor Surveillance System (BRFSS) to visualize the prevalence of obesity. Specifically we will explore obesity rate data (the percent of adults aged 18 years and older who have obesity). We will also confirm the increasing rates of obesity using historical statistics dating back to 2011. Then, using the most recent CDC findings, we will identify the top two most and least obsese states.\n",
    "\n",
    "Next we will scrape zip code and neighborhood data for the selected states from the City-Data website. A geocoding Python package will then be used to convert zip codes into latitudes and longitudes to use with the Foursquare API. \n",
    "\n",
    "Finally, we will utilize the Foursquare API to determine the most common venue categories within each of the geocoded zip codes/neighborhoods. This will enable us to create a list of the top 10 venue categories for each sub area. Then we will compare and contrast city composition results between the most and least obese states."
   ]
  }
 ],
 "metadata": {
  "kernelspec": {
   "display_name": "Python 3",
   "language": "python",
   "name": "python3"
  },
  "language_info": {
   "codemirror_mode": {
    "name": "ipython",
    "version": 3
   },
   "file_extension": ".py",
   "mimetype": "text/x-python",
   "name": "python",
   "nbconvert_exporter": "python",
   "pygments_lexer": "ipython3",
   "version": "3.7.3"
  }
 },
 "nbformat": 4,
 "nbformat_minor": 2
}
