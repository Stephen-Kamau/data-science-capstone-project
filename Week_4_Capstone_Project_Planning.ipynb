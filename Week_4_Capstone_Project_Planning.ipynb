{
 "cells": [
  {
   "cell_type": "markdown",
   "metadata": {},
   "source": [
    "# Capstone Project Planning"
   ]
  },
  {
   "cell_type": "markdown",
   "metadata": {},
   "source": [
    "**Ideas**\n",
    "\n",
    "* Is there a commonality between America's most obese cities?\n",
    "* Is there a difference between America's most and least obsese cities?\n",
    "\n",
    "**Method**\n",
    "\n",
    "Utilize the Foursquare API to detect trends in the category of venues that are located in America's most obese cities.\n",
    "\n",
    "**Sources**\n",
    "\n",
    "* The State of Obesity. Adult Obesity in the United States. Retrieved 22:10, July 10, 2019, from https://www.stateofobesity.org/adult-obesity/\n",
    "* Centers for Disease Control and Prevention. National Center for Chronic Disease Prevention and Health Promotion, Division of Nutrition, Physical Activity, and Obesity. Data, Trend and Maps [online]. [accessed Jul 06, 2019]. URL: https://www.cdc.gov/nccdphp/dnpao/data-trends-maps/index.html.\n",
    "* Wikipedia contributors. (2019, June 30). Obesity in the United States. In Wikipedia, The Free Encyclopedia. Retrieved 23:20, July 6, 2019, from https://en.wikipedia.org/w/index.php?title=Obesity_in_the_United_States&oldid=904132800\n",
    "* U.S. Census Bureau, Population Division. (2017, May). Subcounty Resident Population Estimates. Retrieved 23:41, July 6, 2019, from https://www2.census.gov/programs-surveys/popest/datasets/2010-2016/cities/totals/\n",
    "* City-Data.com. Zip code and neighborhood data, from http://www.city-data.com/\n",
    "* County Health Rankings. (2019). Rankings Data & Documentation. Retrieved 14:30, July 7, 2019, from https://www.countyhealthrankings.org/explore-health-rankings/rankings-data-documentation\n",
    "* Hammond, R. A., & Levine, R. (2010). The economic impact of obesity in the United States. Diabetes, metabolic syndrome and obesity : targets and therapy, 3, 285–295. doi:10.2147/DMSOTT.S7384\n",
    "* Foursquare API. Location Data, from https://developer.foursquare.com/"
   ]
  }
 ],
 "metadata": {
  "kernelspec": {
   "display_name": "Python 3",
   "language": "python",
   "name": "python3"
  },
  "language_info": {
   "codemirror_mode": {
    "name": "ipython",
    "version": 3
   },
   "file_extension": ".py",
   "mimetype": "text/x-python",
   "name": "python",
   "nbconvert_exporter": "python",
   "pygments_lexer": "ipython3",
   "version": "3.7.3"
  }
 },
 "nbformat": 4,
 "nbformat_minor": 2
}
