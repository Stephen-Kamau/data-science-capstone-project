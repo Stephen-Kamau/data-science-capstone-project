{
 "cells": [
  {
   "cell_type": "markdown",
   "metadata": {},
   "source": [
    "# Capstone Project\n",
    "## Data"
   ]
  },
  {
   "cell_type": "markdown",
   "metadata": {},
   "source": [
    "First, we will leverage data from the Centers for Disease Control and Prevention to visualize the prevalence of obesity by state. We will also confirm the increasing rates of obesity using historical CDC statistics.\n",
    "\n",
    "Then we will identify the most and least obese states using data from County Health Rankings. \n",
    "\n",
    "Finally, we will utilize the Foursquare API to determine the most common venue categories within the target regions. In order to ensure that there are sufficient venues for analysis, we will use the capital city centroid for each state. Summarization of results will enable us to compare and contrast the most and least obese states and examine any trends that might be present.\n",
    "\n",
    "**Sources**\n",
    "\n",
    "* Centers for Disease Control and Prevention - Nutrition, Physical Activity, and Obesity: Data, Trends and Maps: https://www.cdc.gov/nccdphp/dnpao/data-trends-maps/index.html\n",
    "* County Health Rankings - 2019 County Health Rankings Analytic Data: https://www.countyhealthrankings.org/explore-health-rankings/rankings-data-documentation\n",
    "* Foursquare API - Location Data: https://developer.foursquare.com/"
   ]
  }
 ],
 "metadata": {
  "kernelspec": {
   "display_name": "Python 3",
   "language": "python",
   "name": "python3"
  },
  "language_info": {
   "codemirror_mode": {
    "name": "ipython",
    "version": 3
   },
   "file_extension": ".py",
   "mimetype": "text/x-python",
   "name": "python",
   "nbconvert_exporter": "python",
   "pygments_lexer": "ipython3",
   "version": "3.7.3"
  }
 },
 "nbformat": 4,
 "nbformat_minor": 2
}
