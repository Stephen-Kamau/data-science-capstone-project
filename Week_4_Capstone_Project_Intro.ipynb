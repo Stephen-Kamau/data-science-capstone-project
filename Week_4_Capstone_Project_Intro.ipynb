{
 "cells": [
  {
   "cell_type": "markdown",
   "metadata": {},
   "source": [
    "# Capstone Project\n",
    "## Introduction"
   ]
  },
  {
   "cell_type": "markdown",
   "metadata": {},
   "source": [
    "America's ever-expanding waistlines is a growing concern. In 2017, according to the Centers for Disease Control and Prevention, more than 30% of adults over the age of 18 were obese. And, with more than two-thirds of Americans classified as overweight, the national obesity rate will only continue to grow.\n",
    "\n",
    "Obesity is a medical condition in which an individual carries excess weight or body fat resulting in a body mass index (BMI) of 30 or above. It is linked to an increased risk for a variety of serious health conditions including hypertension, type 2 diabetes, stroke and heart disease. \n",
    "\n",
    "Obesity is fundamentally caused by a prolonged caloric excess; this physiological imbalance is in turn impacted by an individual's external surroundings. As environments have changed such that high levels of physical activity are no longer required and calorie dense foods are available in abundance, sedentary lifestyles and poor diet have become the norm. Obesity is the body's natural response to the comfortable environment that humanity has engineered.\n",
    "\n",
    "Unfortunately, the obesity epidemic has wide-ranging ramifications, affecting not only individuals' wellbeing but also burdening society with added medical costs and decreased productivity. Research indicates that the total annual economic impact is in excess of $215 billion. \n",
    "\n",
    "Obesity researchers, health organizations and public policy makers are three groups who are particularly interested in understanding how environmental stimuli such as easy access to fast food are facilitating society's weight gain. The natural next question is whether we are able to modify the environment to help limit the extent of this growing epidemic. While it is unlikely that we will be able to eliminate obesity completely by adding or removing certain external stimuli, there is the potential for small behavioral improvements. For example, simply by promoting physical activity during morning commutes \n",
    "\n",
    "In this study, we examine the link between obesity and city composition with the goal of identifying trends that differentiate America's most and least obese cities. We will look to answer questions such as what percentage of venues are classified as fast food? How many parks and biking trails are available? Do obese cities have fewer grocery stores?  \n",
    "\n",
    "The findings of this study would be of particular interest to obesity researchers, health organizations and public policy makers looking to implement strategies to promote health and combat rising medical costs. If a connection does indeed exist between obesity and city composition, it might be possible to identify and actively monitor \"at risk\" environments that may encourage unhealthy lifestyle choices leading to increased rates of obesity. Ultimately, this research could be used to encourage the growth of healthier cities by helping to engineer surroundings that are optimized for health.\n",
    "\n",
    "**Sources**\n",
    "\n",
    "* Centers for Disease Control and Prevention. National Center for Chronic Disease Prevention and Health Promotion, Division of Nutrition, Physical Activity, and Obesity. Data, Trend and Maps [online]. [accessed Jul 06, 2019]. URL: https://www.cdc.gov/nccdphp/dnpao/data-trends-maps/index.html.\n",
    "* Wikipedia contributors. (2019, June 30). Obesity in the United States. In Wikipedia, The Free Encyclopedia. Retrieved 23:20, July 6, 2019, from https://en.wikipedia.org/w/index.php?title=Obesity_in_the_United_States&oldid=904132800\n",
    "* U.S. Census Bureau, Population Division. (2017, May). Subcounty Resident Population Estimates. Retrieved 23:41, July 6, 2019, from https://www2.census.gov/programs-surveys/popest/datasets/2010-2016/cities/totals/\n",
    "* County Health Rankings. (2019). Rankings Data & Documentation. Retrieved 14:30, July 7, 2019, from https://www.countyhealthrankings.org/explore-health-rankings/rankings-data-documentation\n",
    "* Hammond, R. A., & Levine, R. (2010). The economic impact of obesity in the United States. Diabetes, metabolic syndrome and obesity : targets and therapy, 3, 285–295. doi:10.2147/DMSOTT.S7384"
   ]
  },
  {
   "cell_type": "code",
   "execution_count": null,
   "metadata": {},
   "outputs": [],
   "source": []
  }
 ],
 "metadata": {
  "kernelspec": {
   "display_name": "Python 3",
   "language": "python",
   "name": "python3"
  },
  "language_info": {
   "codemirror_mode": {
    "name": "ipython",
    "version": 3
   },
   "file_extension": ".py",
   "mimetype": "text/x-python",
   "name": "python",
   "nbconvert_exporter": "python",
   "pygments_lexer": "ipython3",
   "version": "3.7.3"
  }
 },
 "nbformat": 4,
 "nbformat_minor": 2
}
