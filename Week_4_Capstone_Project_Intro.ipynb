{
 "cells": [
  {
   "cell_type": "markdown",
   "metadata": {},
   "source": [
    "# Capstone Project\n",
    "## Introduction"
   ]
  },
  {
   "cell_type": "markdown",
   "metadata": {},
   "source": [
    "In America, obesity has become an epidemic. According to the Centers for Disease Control and Prevention, more than 30% of adults over the age of 18 are obese. Despite growing recognition of the severity of the problem, including significant research and investment in public health initiatives, the obesity rate continues to rise. Now, as we begin to feel the societal impacts of this phenomenon, we have to ask ourselves: what can be done to combat obesity?\n",
    "\n",
    "Obesity is a medical condition in which an individual carries excess weight or body fat resulting in a body mass index (BMI) of 30 or above. It is linked to an increased risk for a variety of serious health conditions including hypertension, type 2 diabetes, stroke and heart disease. Unfortunately, the obesity epidemic has wide-ranging ramifications, affecting not only individuals' wellbeing but also burdening society with added medical costs and decreased productivity. Research indicates that the total annual economic impact of obesity is in excess of $215 billion. It is clear that society must actively address this growing health crisis or suffer deadly and expensive consequences.\n",
    "\n",
    "Obesity is fundamentally caused by a prolonged caloric excess; this physiological imbalance is in turn impacted by an individual's external surroundings. As environments have changed such that high levels of physical activity are no longer required and calorie dense foods are available in abundance, there has been a marked trend towards sedentary lifestyles and overeating. Indeed, obesity is the body's natural response to the comfortable environment that humanity has engineered.\n",
    "\n",
    "Obesity researchers, health organizations and public policy makers are three groups who are particularly interested in understanding how environmental factors such as easy access to fast food are facilitating society's weight gain. The natural next question is whether we are able to modify the environment to help limit the extent of this growing epidemic. While it is unlikely that we will be able to eliminate obesity completely by adding or removing certain external stimuli, there is the potential for small behavioral changes, which over time can add up to a significant improvement in public health.\n",
    "\n",
    "In this study, we examine the link between obesity and the environment. To do this, we select the most and least obese cities in America and examine differences in their compositions. We will compare and contrast the relative abundance of parks, biking trails and fast food restaurants, for example, in the context of understanding what makes an environment “healthy”.\n",
    "\n",
    "The findings of this study would be of particular interest to government agencies and policy makers looking to understand and prevent obesity. If a connection does indeed exist between obesity and city composition, it might be possible to identify \"at risk\" environments that encourage lifestyle choices leading to decreased levels of physical activity and poor diet. Ultimately, this research could be used to seed the growth of healthier cities by helping to engineer surroundings that are optimized for our wellbeing.\n",
    "\n",
    "**Sources**\n",
    "\n",
    "* Centers for Disease Control and Prevention. National Center for Chronic Disease Prevention and Health Promotion, Division of Nutrition, Physical Activity, and Obesity. Data, Trend and Maps [online]. [accessed Jul 06, 2019]. URL: https://www.cdc.gov/nccdphp/dnpao/data-trends-maps/index.html.\n",
    "* Wikipedia contributors. (2019, June 30). Obesity in the United States. In Wikipedia, The Free Encyclopedia. Retrieved 23:20, July 6, 2019, from https://en.wikipedia.org/w/index.php?title=Obesity_in_the_United_States&oldid=904132800\n",
    "* U.S. Census Bureau, Population Division. (2017, May). Subcounty Resident Population Estimates. Retrieved 23:41, July 6, 2019, from https://www2.census.gov/programs-surveys/popest/datasets/2010-2016/cities/totals/\n",
    "* County Health Rankings. (2019). Rankings Data & Documentation. Retrieved 14:30, July 7, 2019, from https://www.countyhealthrankings.org/explore-health-rankings/rankings-data-documentation\n",
    "* Hammond, R. A., & Levine, R. (2010). The economic impact of obesity in the United States. Diabetes, metabolic syndrome and obesity : targets and therapy, 3, 285–295. doi:10.2147/DMSOTT.S7384"
   ]
  }
 ],
 "metadata": {
  "kernelspec": {
   "display_name": "Python 3",
   "language": "python",
   "name": "python3"
  },
  "language_info": {
   "codemirror_mode": {
    "name": "ipython",
    "version": 3
   },
   "file_extension": ".py",
   "mimetype": "text/x-python",
   "name": "python",
   "nbconvert_exporter": "python",
   "pygments_lexer": "ipython3",
   "version": "3.7.3"
  }
 },
 "nbformat": 4,
 "nbformat_minor": 2
}
