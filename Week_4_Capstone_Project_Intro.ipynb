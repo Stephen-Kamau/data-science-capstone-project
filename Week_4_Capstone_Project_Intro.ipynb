{
 "cells": [
  {
   "cell_type": "markdown",
   "metadata": {},
   "source": [
    "# Capstone Project\n",
    "## Introduction"
   ]
  },
  {
   "cell_type": "markdown",
   "metadata": {},
   "source": [
    "The prevalence of obesity is a growing concern across the US. In 2017, according to the Centers for Disease Control and Prevention, more than 30% of adults over the age of 18 were obese. And, with more than two-thirds of Americans classified as overweight, the national obesity rate will only continue to grow.\n",
    "\n",
    "Obesity is a medical condition in which an individual carries excess weight or body fat resulting in a body mass index (BMI) of 30 or above. It is linked to an increased risk for a variety of serious health conditions including hypertension, type 2 diabetes, stroke and heart disease. The obesity epidemic has wide-ranging ramifications, affecting not only individuals' wellbeing but also burdening society with added medical costs and decreased productivity. Research indicates that the total annual economic impact is in excess of $215 billion. \n",
    "\n",
    "Factors such as sedentary lifestyle and poor diet, known to be linked to obesity, can be impacted by environmental stimuli such as easy access to fast food rather than healthier options. In this study, we examine the link between obesity and city composition by leveraging Foursquare location data. The goal is to identify trends that differentiate America's most and least obese cities.\n",
    "\n",
    "This research would be of particular interest to policy makers looking to implement strategies to promote health and combat rising costs. A link between obesity and city composition would enable states to identify and actively monitor areas that may seed unhealthy lifestyle choices and address problems by encouraging development of alternative options, for example gyms, walking paths and affordable grocery stores.\n",
    "\n",
    "**Sources**\n",
    "\n",
    "* Centers for Disease Control and Prevention. National Center for Chronic Disease Prevention and Health Promotion, Division of Nutrition, Physical Activity, and Obesity. Data, Trend and Maps [online]. [accessed Jul 06, 2019]. URL: https://www.cdc.gov/nccdphp/dnpao/data-trends-maps/index.html.\n",
    "* Wikipedia contributors. (2019, June 30). Obesity in the United States. In Wikipedia, The Free Encyclopedia. Retrieved 23:20, July 6, 2019, from https://en.wikipedia.org/w/index.php?title=Obesity_in_the_United_States&oldid=904132800\n",
    "* U.S. Census Bureau, Population Division. (2017, May). Subcounty Resident Population Estimates. Retrieved 23:41, July 6, 2019, from https://www2.census.gov/programs-surveys/popest/datasets/2010-2016/cities/totals/\n",
    "* County Health Rankings. (2019). Rankings Data & Documentation. Retrieved 14:30, July 7, 2019, from https://www.countyhealthrankings.org/explore-health-rankings/rankings-data-documentation\n",
    "* Hammond, R. A., & Levine, R. (2010). The economic impact of obesity in the United States. Diabetes, metabolic syndrome and obesity : targets and therapy, 3, 285–295. doi:10.2147/DMSOTT.S7384"
   ]
  }
 ],
 "metadata": {
  "kernelspec": {
   "display_name": "Python 3",
   "language": "python",
   "name": "python3"
  },
  "language_info": {
   "codemirror_mode": {
    "name": "ipython",
    "version": 3
   },
   "file_extension": ".py",
   "mimetype": "text/x-python",
   "name": "python",
   "nbconvert_exporter": "python",
   "pygments_lexer": "ipython3",
   "version": "3.7.3"
  }
 },
 "nbformat": 4,
 "nbformat_minor": 2
}
